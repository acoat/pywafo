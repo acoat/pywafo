{
 "cells": [
  {
   "cell_type": "markdown",
   "metadata": {},
   "source": [
    "CHAPTER3  Demonstrates distributions of wave characteristics\n",
    "=============================================================\n",
    "\n",
    "Chapter3 contains the commands used in Chapter3 in the tutorial.\n",
    " \n",
    "Some of the commands are edited for fast computation. \n",
    "\n",
    "Section 3.2 Estimation of wave characteristics from data\n",
    "----------------------------------------------------------\n",
    "Example 1\n",
    "~~~~~~~~~~ "
   ]
  },
  {
   "cell_type": "code",
   "execution_count": 1,
   "metadata": {},
   "outputs": [],
   "source": [
    "speed = 'fast'\n",
    "#speed = 'slow'\n",
    "\n",
    "import wafo.data as wd\n",
    "import wafo.misc as wm\n",
    "import wafo.objects as wo\n",
    "xx = wd.sea() \n",
    "xx[:,1] = wm.detrendma(xx[:,1],len(xx))\n",
    "ts = wo.mat2timeseries(xx)\n",
    "Tcrcr, ix = ts.wave_periods(vh=0, pdef='c2c', wdef='tw', rate=8)\n",
    "Tc, ixc = ts.wave_periods(vh=0, pdef='u2d', wdef='tw', rate=8)"
   ]
  },
  {
   "cell_type": "code",
   "execution_count": null,
   "metadata": {},
   "outputs": [],
   "source": []
  }
 ],
 "metadata": {
  "kernelspec": {
   "display_name": "Python 3",
   "language": "python",
   "name": "python3"
  },
  "language_info": {
   "codemirror_mode": {
    "name": "ipython",
    "version": 3
   },
   "file_extension": ".py",
   "mimetype": "text/x-python",
   "name": "python",
   "nbconvert_exporter": "python",
   "pygments_lexer": "ipython3",
   "version": "3.7.6"
  }
 },
 "nbformat": 4,
 "nbformat_minor": 1
}
